{
 "cells": [
  {
   "cell_type": "code",
   "execution_count": 1,
   "id": "f0c32007",
   "metadata": {
    "execution": {
     "iopub.execute_input": "2025-04-15T16:16:25.606404Z",
     "iopub.status.busy": "2025-04-15T16:16:25.605992Z",
     "iopub.status.idle": "2025-04-15T16:16:27.925435Z",
     "shell.execute_reply": "2025-04-15T16:16:27.924295Z"
    },
    "papermill": {
     "duration": 2.325164,
     "end_time": "2025-04-15T16:16:27.927209",
     "exception": false,
     "start_time": "2025-04-15T16:16:25.602045",
     "status": "completed"
    },
    "tags": []
   },
   "outputs": [],
   "source": [
    "import pandas as pd\n",
    "import numpy as np\n",
    "import matplotlib.pyplot as plt\n",
    "\n",
    "# 1. Load and process MSFT price data\n",
    "msft = pd.read_csv('/kaggle/input/msft-prices/msft_price-history-04-08-2025.csv')\n",
    "msft = msft[pd.to_datetime(msft['Time'], errors='coerce').notna()]\n",
    "msft['date'] = pd.to_datetime(msft['Time']).dt.date\n",
    "msft = msft.sort_values('date')\n",
    "msft['Last'] = pd.to_numeric(msft['Last'], errors='coerce')\n",
    "msft['3_day_return'] = msft['Last'].pct_change(periods=3).shift(-3)\n",
    "\n",
    "# 2. Load and process news sentiment data\n",
    "news = pd.read_csv('/kaggle/input/stock-prices/sentiment_analyzed_news.csv')\n",
    "news['date'] = pd.to_datetime(news['date']).dt.date\n",
    "news = news[['date', 'source', 'sentiment', 'sentiment_strength', 'weighted_sentiment']]\n"
   ]
  },
  {
   "cell_type": "code",
   "execution_count": 2,
   "id": "f99b8ee0",
   "metadata": {
    "execution": {
     "iopub.execute_input": "2025-04-15T16:16:27.933053Z",
     "iopub.status.busy": "2025-04-15T16:16:27.932745Z",
     "iopub.status.idle": "2025-04-15T16:16:27.963323Z",
     "shell.execute_reply": "2025-04-15T16:16:27.962402Z"
    },
    "papermill": {
     "duration": 0.035415,
     "end_time": "2025-04-15T16:16:27.965129",
     "exception": false,
     "start_time": "2025-04-15T16:16:27.929714",
     "status": "completed"
    },
    "tags": []
   },
   "outputs": [
    {
     "name": "stdout",
     "output_type": "stream",
     "text": [
      "Merged shape: (2185, 6)\n"
     ]
    }
   ],
   "source": [
    "\n",
    "# 3. Map sentiment labels to numeric\n",
    "sentiment_map = {'positive': 1, 'neutral': 0, 'negative': -1}\n",
    "news['sentiment'] = news['sentiment'].map(sentiment_map)\n",
    "\n",
    "# 4. Merge on date\n",
    "merged = pd.merge(news, msft[['date', '3_day_return']], on='date', how='inner')\n",
    "\n",
    "print(f\"Merged shape: {merged.shape}\")\n",
    "\n",
    "# 5. Drop rows missing info\n",
    "merged = merged.dropna(subset=['sentiment', '3_day_return', 'source'])\n",
    "\n",
    "# 6. Evaluate prediction correctness\n",
    "merged['correct'] = np.where(\n",
    "    ((merged['sentiment'] > 0.5) & (merged['3_day_return'] > 0)) |\n",
    "    ((merged['sentiment'] <= 0.5) & (merged['3_day_return'] <= 0)),\n",
    "    1, 0\n",
    ")\n",
    "\n",
    "# 7. Compute accuracy per source\n",
    "accuracy_df = merged.groupby('source')['correct'].mean().reset_index()\n",
    "accuracy_df.columns = ['source', 'accuracy']\n"
   ]
  },
  {
   "cell_type": "code",
   "execution_count": 3,
   "id": "b368b46f",
   "metadata": {
    "execution": {
     "iopub.execute_input": "2025-04-15T16:16:27.970844Z",
     "iopub.status.busy": "2025-04-15T16:16:27.970535Z",
     "iopub.status.idle": "2025-04-15T16:16:27.976892Z",
     "shell.execute_reply": "2025-04-15T16:16:27.975908Z"
    },
    "papermill": {
     "duration": 0.011072,
     "end_time": "2025-04-15T16:16:27.978571",
     "exception": false,
     "start_time": "2025-04-15T16:16:27.967499",
     "status": "completed"
    },
    "tags": []
   },
   "outputs": [],
   "source": [
    "\n",
    "# 8. Define authority (you can change if needed)\n",
    "authority_dict = {\n",
    "    'Economic Times': 0.85,\n",
    "    'Google News': 0.8,\n",
    "    'News API': 0.75,\n",
    "    'StockTwits': 0.6,\n",
    "    'Yahoo Finance': 0.9\n",
    "}\n",
    "merged['authority'] = merged['source'].map(authority_dict)\n"
   ]
  },
  {
   "cell_type": "code",
   "execution_count": 4,
   "id": "7a3b5a00",
   "metadata": {
    "execution": {
     "iopub.execute_input": "2025-04-15T16:16:27.984372Z",
     "iopub.status.busy": "2025-04-15T16:16:27.984005Z",
     "iopub.status.idle": "2025-04-15T16:16:27.993958Z",
     "shell.execute_reply": "2025-04-15T16:16:27.992903Z"
    },
    "papermill": {
     "duration": 0.014981,
     "end_time": "2025-04-15T16:16:27.995912",
     "exception": false,
     "start_time": "2025-04-15T16:16:27.980931",
     "status": "completed"
    },
    "tags": []
   },
   "outputs": [],
   "source": [
    "\n",
    "# 9. Merge accuracy into main\n",
    "merged = merged.merge(accuracy_df, on='source', how='left')\n",
    "\n",
    "# 10. Compute Source Credibility Index (SCI)\n",
    "alpha, beta = 0.7, 0.3\n",
    "merged['SCI'] = alpha * merged['accuracy'] + beta * merged['authority']\n"
   ]
  },
  {
   "cell_type": "code",
   "execution_count": 5,
   "id": "ed5dcf46",
   "metadata": {
    "execution": {
     "iopub.execute_input": "2025-04-15T16:16:28.002182Z",
     "iopub.status.busy": "2025-04-15T16:16:28.001808Z",
     "iopub.status.idle": "2025-04-15T16:16:28.013659Z",
     "shell.execute_reply": "2025-04-15T16:16:28.012610Z"
    },
    "papermill": {
     "duration": 0.016942,
     "end_time": "2025-04-15T16:16:28.015258",
     "exception": false,
     "start_time": "2025-04-15T16:16:27.998316",
     "status": "completed"
    },
    "tags": []
   },
   "outputs": [],
   "source": [
    "\n",
    "# 11. Credibility-weighted sentiment\n",
    "merged['weighted_sentiment'] = merged['sentiment'] * merged['SCI']\n",
    "\n",
    "# 12. Aggregate daily\n",
    "daily_sentiment = merged.groupby('date').agg({\n",
    "    'sentiment': 'mean',\n",
    "    'weighted_sentiment': 'mean'\n",
    "}).reset_index()\n"
   ]
  },
  {
   "cell_type": "code",
   "execution_count": 6,
   "id": "70226d55",
   "metadata": {
    "execution": {
     "iopub.execute_input": "2025-04-15T16:16:28.021245Z",
     "iopub.status.busy": "2025-04-15T16:16:28.020940Z",
     "iopub.status.idle": "2025-04-15T16:16:28.047310Z",
     "shell.execute_reply": "2025-04-15T16:16:28.046019Z"
    },
    "papermill": {
     "duration": 0.031377,
     "end_time": "2025-04-15T16:16:28.049074",
     "exception": false,
     "start_time": "2025-04-15T16:16:28.017697",
     "status": "completed"
    },
    "tags": []
   },
   "outputs": [
    {
     "name": "stdout",
     "output_type": "stream",
     "text": [
      "\n",
      "Final SCI (including sources with no matched returns):\n",
      "           source  accuracy  authority       SCI\n",
      "4   Yahoo Finance  0.824561       0.90  0.847193\n",
      "2        News API  0.676950       0.75  0.698865\n",
      "3      StockTwits  0.731810       0.60  0.692267\n",
      "0  Economic Times  0.571429       0.85  0.655000\n",
      "1     Google News  0.580000       0.80  0.646000\n"
     ]
    }
   ],
   "source": [
    "# 15. Compute SCI for all sources, even those not in merged\n",
    "all_sources = pd.DataFrame({'source': list(authority_dict.keys())})\n",
    "\n",
    "# Merge in observed accuracy, if available\n",
    "all_sources = all_sources.merge(accuracy_df, on='source', how='left')\n",
    "\n",
    "# Use mean accuracy for missing sources\n",
    "mean_accuracy = accuracy_df['accuracy'].mean()\n",
    "all_sources['accuracy'] = all_sources['accuracy'].fillna(mean_accuracy)\n",
    "\n",
    "# Add authority\n",
    "all_sources['authority'] = all_sources['source'].map(authority_dict)\n",
    "\n",
    "# Recalculate SCI\n",
    "all_sources['SCI'] = alpha * all_sources['accuracy'] + beta * all_sources['authority']\n",
    "\n",
    "# Print final results\n",
    "print(\"\\nFinal SCI (including sources with no matched returns):\")\n",
    "print(all_sources.sort_values('SCI', ascending=False))\n"
   ]
  }
 ],
 "metadata": {
  "kaggle": {
   "accelerator": "none",
   "dataSources": [
    {
     "datasetId": 7083479,
     "sourceId": 11324708,
     "sourceType": "datasetVersion"
    },
    {
     "datasetId": 7083785,
     "sourceId": 11325135,
     "sourceType": "datasetVersion"
    },
    {
     "datasetId": 7104177,
     "sourceId": 11352794,
     "sourceType": "datasetVersion"
    }
   ],
   "dockerImageVersionId": 31012,
   "isGpuEnabled": false,
   "isInternetEnabled": true,
   "language": "python",
   "sourceType": "notebook"
  },
  "kernelspec": {
   "display_name": "Python 3",
   "language": "python",
   "name": "python3"
  },
  "language_info": {
   "codemirror_mode": {
    "name": "ipython",
    "version": 3
   },
   "file_extension": ".py",
   "mimetype": "text/x-python",
   "name": "python",
   "nbconvert_exporter": "python",
   "pygments_lexer": "ipython3",
   "version": "3.11.11"
  },
  "papermill": {
   "default_parameters": {},
   "duration": 8.282706,
   "end_time": "2025-04-15T16:16:28.570929",
   "environment_variables": {},
   "exception": null,
   "input_path": "__notebook__.ipynb",
   "output_path": "__notebook__.ipynb",
   "parameters": {},
   "start_time": "2025-04-15T16:16:20.288223",
   "version": "2.6.0"
  }
 },
 "nbformat": 4,
 "nbformat_minor": 5
}
